{
 "cells": [
  {
   "cell_type": "markdown",
   "id": "33e133ee",
   "metadata": {},
   "source": [
    "# Selenium\n",
    "- a framework to automate a web browser.\n",
    "- generally used for testing web applications."
   ]
  },
  {
   "cell_type": "markdown",
   "id": "3809e544",
   "metadata": {},
   "source": [
    "# Installing Selenium :\n",
    "&emsp;&emsp; `pip install selenium`"
   ]
  },
  {
   "cell_type": "markdown",
   "id": "fad3c8e8",
   "metadata": {},
   "source": [
    "# Web Drivers\n",
    " \n",
    "web Drivers in selenium connects the code(Python) with the real browsers.\n"
   ]
  },
  {
   "cell_type": "code",
   "execution_count": null,
   "id": "7bda0e77",
   "metadata": {},
   "outputs": [],
   "source": []
  },
  {
   "cell_type": "code",
   "execution_count": null,
   "id": "66e674ed",
   "metadata": {},
   "outputs": [],
   "source": [
    "!pip install Selenium"
   ]
  },
  {
   "cell_type": "code",
   "execution_count": 7,
   "id": "1affb4c6",
   "metadata": {},
   "outputs": [],
   "source": [
    "from selenium import webdriver\n",
    "from selenium.webdriver.common.by import By\n",
    "import time\n",
    "import pandas as pd\n",
    "import re"
   ]
  },
  {
   "cell_type": "code",
   "execution_count": null,
   "id": "addf5c54",
   "metadata": {},
   "outputs": [],
   "source": [
    "# creates a new browser\n",
    "driver = webdriver.Chrome()"
   ]
  },
  {
   "cell_type": "code",
   "execution_count": null,
   "id": "39f0e976",
   "metadata": {},
   "outputs": [],
   "source": [
    "#driver.get(\"https://www.google.com\")\n",
    "#driver.get(\"https://www.naukri.com\")\n",
    "driver.get(\"https://facebook.com\")"
   ]
  },
  {
   "cell_type": "code",
   "execution_count": null,
   "id": "b7203fce",
   "metadata": {},
   "outputs": [],
   "source": [
    "# to display the title of website\n",
    "driver.title"
   ]
  },
  {
   "cell_type": "code",
   "execution_count": null,
   "id": "b05901ea",
   "metadata": {},
   "outputs": [],
   "source": [
    "driver.close()"
   ]
  },
  {
   "cell_type": "markdown",
   "id": "7dc4c56a",
   "metadata": {},
   "source": [
    "# Project : Scrape country details from wikipedia using selenium"
   ]
  },
  {
   "cell_type": "code",
   "execution_count": null,
   "id": "632a99ba",
   "metadata": {},
   "outputs": [],
   "source": [
    "from selenium import webdriver\n",
    "from selenium.webdriver.common.by import By\n",
    "import time\n",
    "import pandas as pd\n",
    "import re"
   ]
  },
  {
   "cell_type": "code",
   "execution_count": 25,
   "id": "91694d70",
   "metadata": {},
   "outputs": [],
   "source": [
    "driver= webdriver.Chrome()\n"
   ]
  },
  {
   "cell_type": "code",
   "execution_count": 26,
   "id": "095b179d",
   "metadata": {},
   "outputs": [],
   "source": [
    "driver.get(\"https://en.wikipedia.org/wiki/List_of_countries_and_dependencies_and_their_capitals_in_native_languages\")"
   ]
  },
  {
   "cell_type": "code",
   "execution_count": 27,
   "id": "18c8af22",
   "metadata": {},
   "outputs": [
    {
     "data": {
      "text/plain": [
       "'List of countries and dependencies and their capitals in native languages - Wikipedia'"
      ]
     },
     "execution_count": 27,
     "metadata": {},
     "output_type": "execute_result"
    }
   ],
   "source": [
    "driver.title"
   ]
  },
  {
   "cell_type": "code",
   "execution_count": 14,
   "id": "10f914bc",
   "metadata": {},
   "outputs": [],
   "source": [
    "all_tables=driver.find_elements(By.CLASS_NAME,\"wikitable\")"
   ]
  },
  {
   "cell_type": "code",
   "execution_count": 15,
   "id": "30d52fad",
   "metadata": {},
   "outputs": [
    {
     "data": {
      "text/plain": [
       "25"
      ]
     },
     "execution_count": 15,
     "metadata": {},
     "output_type": "execute_result"
    }
   ],
   "source": [
    "len(all_tables)"
   ]
  },
  {
   "cell_type": "code",
   "execution_count": 16,
   "id": "a9db7300",
   "metadata": {},
   "outputs": [],
   "source": [
    "df = pd.DataFrame({}, columns=['Country', 'Capital', 'Language'])"
   ]
  },
  {
   "cell_type": "code",
   "execution_count": 19,
   "id": "8df687f6",
   "metadata": {},
   "outputs": [
    {
     "name": "stdout",
     "output_type": "stream",
     "text": [
      "<bound method WebDriver.maximize_window of <selenium.webdriver.chrome.webdriver.WebDriver (session=\"5bf226b7fa2c260a5165fe87afa2c6ef\")>>\n"
     ]
    }
   ],
   "source": []
  },
  {
   "cell_type": "code",
   "execution_count": 18,
   "id": "7ff6c873",
   "metadata": {},
   "outputs": [],
   "source": [
    "for one_table in all_tables:\n",
    "    all_rows= one_table.find_elements(By.TAG_NAME,'tr')[1:]\n",
    "    for tr in all_rows:\n",
    "        all_tds = tr.find_elements(By.TAG_NAME,'td')\n",
    "\n",
    "        country = all_tds[0].text\n",
    "        capital = all_tds[1].text\n",
    "        language = all_tds[-1].text\n",
    "\n",
    "        ele = {'Country': country, 'Capital' : capital, 'Language' : language}\n",
    "        \n",
    "        #df = df.append(ele, ignore_index=True) # append method is removed from pandas\n",
    "        df = pd.concat([df, pd.DataFrame([ele])], ignore_index=True)"
   ]
  },
  {
   "cell_type": "code",
   "execution_count": null,
   "id": "460d44a5",
   "metadata": {},
   "outputs": [],
   "source": [
    "df"
   ]
  },
  {
   "cell_type": "code",
   "execution_count": null,
   "id": "0a2de81e",
   "metadata": {},
   "outputs": [],
   "source": [
    "import pandas as pd\n",
    "import re"
   ]
  },
  {
   "cell_type": "code",
   "execution_count": null,
   "id": "807a1856",
   "metadata": {},
   "outputs": [],
   "source": [
    "df['Language']=df['Language'].apply(lambda x: x[:-1])"
   ]
  },
  {
   "cell_type": "code",
   "execution_count": null,
   "id": "e1196968",
   "metadata": {},
   "outputs": [],
   "source": [
    "df['Country'] =  df['Country'].apply(lambda x : re.sub('\\[.*\\]', \"\", x.rstrip()))"
   ]
  },
  {
   "cell_type": "code",
   "execution_count": null,
   "id": "0d6aefda",
   "metadata": {},
   "outputs": [],
   "source": [
    "df"
   ]
  },
  {
   "cell_type": "code",
   "execution_count": null,
   "id": "bbe2056f",
   "metadata": {},
   "outputs": [],
   "source": [
    "df.to_csv(\"Country_sel.csv\",index=False)"
   ]
  },
  {
   "cell_type": "code",
   "execution_count": 28,
   "id": "7990f8a0",
   "metadata": {},
   "outputs": [],
   "source": [
    "driver.close()"
   ]
  },
  {
   "cell_type": "markdown",
   "id": "57bdeda9",
   "metadata": {},
   "source": [
    "# End of project"
   ]
  },
  {
   "cell_type": "code",
   "execution_count": 166,
   "id": "f11841a0",
   "metadata": {},
   "outputs": [],
   "source": [
    "d= webdriver.Chrome()"
   ]
  },
  {
   "cell_type": "code",
   "execution_count": 167,
   "id": "154fb8f9",
   "metadata": {},
   "outputs": [],
   "source": [
    "d.get(\"https://collegedunia.com/engineering-colleges\")"
   ]
  },
  {
   "cell_type": "code",
   "execution_count": 168,
   "id": "a7843301",
   "metadata": {},
   "outputs": [
    {
     "data": {
      "text/plain": [
       "'Top Engineering Colleges in India 2024: Rankings, Fees, Admission, Placements'"
      ]
     },
     "execution_count": 168,
     "metadata": {},
     "output_type": "execute_result"
    }
   ],
   "source": [
    "d.title"
   ]
  },
  {
   "cell_type": "code",
   "execution_count": 94,
   "id": "00338e8f",
   "metadata": {},
   "outputs": [],
   "source": [
    "all_img=d.find_elements(By.TAG_NAME,\"img\")"
   ]
  },
  {
   "cell_type": "code",
   "execution_count": 95,
   "id": "13fabfe2",
   "metadata": {},
   "outputs": [
    {
     "data": {
      "text/plain": [
       "234"
      ]
     },
     "execution_count": 95,
     "metadata": {},
     "output_type": "execute_result"
    }
   ],
   "source": [
    "len(all_img)"
   ]
  },
  {
   "cell_type": "code",
   "execution_count": 117,
   "id": "1f140815",
   "metadata": {},
   "outputs": [],
   "source": [
    "all_colleges = d.find_elements(By.CLASS_NAME,'jsx-1948362374')"
   ]
  },
  {
   "cell_type": "code",
   "execution_count": 118,
   "id": "66cb07ca",
   "metadata": {},
   "outputs": [
    {
     "data": {
      "text/plain": [
       "2219"
      ]
     },
     "execution_count": 118,
     "metadata": {},
     "output_type": "execute_result"
    }
   ],
   "source": [
    "len(all_colleges)"
   ]
  },
  {
   "cell_type": "code",
   "execution_count": 119,
   "id": "e2ef0191",
   "metadata": {},
   "outputs": [
    {
     "data": {
      "text/plain": [
       "'IIT Madras - Indian Institute of Technology - [IITM], Chennai\\nChennai, Tamil Nadu |AICTE Approved\\nB.Tech Computer Science Engineering\\nJEE-Advanced 2023 Cutoff : 148'"
      ]
     },
     "execution_count": 119,
     "metadata": {},
     "output_type": "execute_result"
    }
   ],
   "source": [
    "all_colleges[0].find_element(By.CLASS_NAME,'clg-name-address').text"
   ]
  },
  {
   "cell_type": "code",
   "execution_count": 120,
   "id": "c00b8c4d",
   "metadata": {},
   "outputs": [
    {
     "data": {
      "text/plain": [
       "'#1\\nIIT Madras - Indian Institute of Technology - [IITM], Chennai\\nChennai, Tamil Nadu |AICTE Approved\\nB.Tech Computer Science Engineering\\nJEE-Advanced 2023 Cutoff : 148\\nApply Now\\nDownload Brochure\\nAdd To Compare\\n₹ 2,09,550\\nBE/B.Tech\\n- 1st Year Fees\\nCompare Fees\\n₹ 21,48,000\\nAverage Package\\n₹ 1,98,00,000\\nHighest Package\\nCompare Placement\\n8.5 / 10\\nBased on 295 User\\nReviews\\nBest in Social Life\\n#3th/131 in India\\n2023\\n+ 9 More'"
      ]
     },
     "execution_count": 120,
     "metadata": {},
     "output_type": "execute_result"
    }
   ],
   "source": [
    "all_colleges[0].text"
   ]
  },
  {
   "cell_type": "code",
   "execution_count": 121,
   "id": "f84f28c1",
   "metadata": {},
   "outputs": [],
   "source": [
    "tds=all_colleges[0].find_elements(By.TAG_NAME,'td')"
   ]
  },
  {
   "cell_type": "code",
   "execution_count": 122,
   "id": "e4b71bf3",
   "metadata": {},
   "outputs": [
    {
     "data": {
      "text/plain": [
       "21"
      ]
     },
     "execution_count": 122,
     "metadata": {},
     "output_type": "execute_result"
    }
   ],
   "source": [
    "len(tds)"
   ]
  },
  {
   "cell_type": "code",
   "execution_count": 123,
   "id": "a12230c1",
   "metadata": {},
   "outputs": [
    {
     "data": {
      "text/plain": [
       "'IIT Madras - Indian Institute of Technology - [IITM], Chennai\\nChennai, Tamil Nadu |AICTE Approved\\nB.Tech Computer Science Engineering\\nJEE-Advanced 2023 Cutoff : 148\\nApply Now\\nDownload Brochure\\nAdd To Compare'"
      ]
     },
     "execution_count": 123,
     "metadata": {},
     "output_type": "execute_result"
    }
   ],
   "source": [
    "tds[1].text"
   ]
  },
  {
   "cell_type": "code",
   "execution_count": 127,
   "id": "b4c3522f",
   "metadata": {},
   "outputs": [],
   "source": [
    "imgs= all_colleges[0].find_element(By.TAG_NAME,'img')"
   ]
  },
  {
   "cell_type": "code",
   "execution_count": 125,
   "id": "8b805560",
   "metadata": {},
   "outputs": [
    {
     "ename": "TypeError",
     "evalue": "object of type 'WebElement' has no len()",
     "output_type": "error",
     "traceback": [
      "\u001b[1;31m---------------------------------------------------------------------------\u001b[0m",
      "\u001b[1;31mTypeError\u001b[0m                                 Traceback (most recent call last)",
      "Cell \u001b[1;32mIn[125], line 1\u001b[0m\n\u001b[1;32m----> 1\u001b[0m \u001b[38;5;28mlen\u001b[39m(imgs)\n",
      "\u001b[1;31mTypeError\u001b[0m: object of type 'WebElement' has no len()"
     ]
    }
   ],
   "source": []
  },
  {
   "cell_type": "code",
   "execution_count": 128,
   "id": "eaf83b9c",
   "metadata": {},
   "outputs": [
    {
     "data": {
      "text/plain": [
       "'https://images.collegedunia.com/public/college_data/images/logos/1434977143jpjpjpjpj.jpg?h=43&w=43&mode=stretch'"
      ]
     },
     "execution_count": 128,
     "metadata": {},
     "output_type": "execute_result"
    }
   ],
   "source": [
    "imgs.get_attribute('src')"
   ]
  },
  {
   "cell_type": "code",
   "execution_count": 12,
   "id": "5952e82c",
   "metadata": {},
   "outputs": [],
   "source": [
    "coll = driver.find_elements(By.CLASS_NAME,\"clg-name-address\")"
   ]
  },
  {
   "cell_type": "code",
   "execution_count": 13,
   "id": "23fcc502",
   "metadata": {},
   "outputs": [
    {
     "data": {
      "text/plain": [
       "35"
      ]
     },
     "execution_count": 13,
     "metadata": {},
     "output_type": "execute_result"
    }
   ],
   "source": [
    "len(coll)"
   ]
  },
  {
   "cell_type": "code",
   "execution_count": 17,
   "id": "de4f3de0",
   "metadata": {},
   "outputs": [
    {
     "data": {
      "text/plain": [
       "15"
      ]
     },
     "execution_count": 17,
     "metadata": {},
     "output_type": "execute_result"
    }
   ],
   "source": [
    "tds=coll[0].find_elements(By.TAG_NAME,'td')\n",
    "len(tds)"
   ]
  },
  {
   "cell_type": "code",
   "execution_count": 19,
   "id": "8f3a2671",
   "metadata": {},
   "outputs": [
    {
     "data": {
      "text/plain": [
       "''"
      ]
     },
     "execution_count": 19,
     "metadata": {},
     "output_type": "execute_result"
    }
   ],
   "source": [
    "tds[-2].text"
   ]
  },
  {
   "cell_type": "code",
   "execution_count": 104,
   "id": "77ff4dbe",
   "metadata": {},
   "outputs": [
    {
     "data": {
      "text/plain": [
       "'Chennai, Tamil Nadu'"
      ]
     },
     "execution_count": 104,
     "metadata": {},
     "output_type": "execute_result"
    }
   ],
   "source": [
    "coll[0].find_element(By.TAG_NAME,\"span\").text"
   ]
  },
  {
   "cell_type": "code",
   "execution_count": 105,
   "id": "751e6d37",
   "metadata": {},
   "outputs": [
    {
     "data": {
      "text/plain": [
       "'IIT Madras - Indian Institute of Technology - [IITM], Chennai'"
      ]
     },
     "execution_count": 105,
     "metadata": {},
     "output_type": "execute_result"
    }
   ],
   "source": [
    "coll[0].find_element(By.TAG_NAME,\"h3\").text"
   ]
  },
  {
   "cell_type": "code",
   "execution_count": 16,
   "id": "7f7c4545",
   "metadata": {},
   "outputs": [
    {
     "ename": "NoSuchElementException",
     "evalue": "Message: no such element: Unable to locate element: {\"method\":\"tag name\",\"selector\":\"span\"}\n  (Session info: chrome=121.0.6167.189); For documentation on this error, please visit: https://www.selenium.dev/documentation/webdriver/troubleshooting/errors#no-such-element-exception\nStacktrace:\n\tGetHandleVerifier [0x00007FF6AF017012+3522402]\n\t(No symbol) [0x00007FF6AEC38352]\n\t(No symbol) [0x00007FF6AEAE5ABB]\n\t(No symbol) [0x00007FF6AEB2BF0E]\n\t(No symbol) [0x00007FF6AEB2C08C]\n\t(No symbol) [0x00007FF6AEB212AC]\n\t(No symbol) [0x00007FF6AEB4F09F]\n\t(No symbol) [0x00007FF6AEB2120A]\n\t(No symbol) [0x00007FF6AEB4F270]\n\t(No symbol) [0x00007FF6AEB6BDA3]\n\t(No symbol) [0x00007FF6AEB4EE03]\n\t(No symbol) [0x00007FF6AEB1F4D4]\n\t(No symbol) [0x00007FF6AEB205F1]\n\tGetHandleVerifier [0x00007FF6AF049B9D+3730157]\n\tGetHandleVerifier [0x00007FF6AF09F02D+4079485]\n\tGetHandleVerifier [0x00007FF6AF0975D3+4048163]\n\tGetHandleVerifier [0x00007FF6AED6A649+718233]\n\t(No symbol) [0x00007FF6AEC44A3F]\n\t(No symbol) [0x00007FF6AEC3FA94]\n\t(No symbol) [0x00007FF6AEC3FBC2]\n\t(No symbol) [0x00007FF6AEC2F2E4]\n\tBaseThreadInitThunk [0x00007FFDA2FC257D+29]\n\tRtlUserThreadStart [0x00007FFDA3ECAA58+40]\n",
     "output_type": "error",
     "traceback": [
      "\u001b[1;31m---------------------------------------------------------------------------\u001b[0m",
      "\u001b[1;31mNoSuchElementException\u001b[0m                    Traceback (most recent call last)",
      "Cell \u001b[1;32mIn[16], line 1\u001b[0m\n\u001b[1;32m----> 1\u001b[0m tds[\u001b[38;5;241m-\u001b[39m\u001b[38;5;241m2\u001b[39m]\u001b[38;5;241m.\u001b[39mfind_element(By\u001b[38;5;241m.\u001b[39mTAG_NAME,\u001b[38;5;124m\"\u001b[39m\u001b[38;5;124mspan\u001b[39m\u001b[38;5;124m\"\u001b[39m)\u001b[38;5;241m.\u001b[39mtext\n",
      "File \u001b[1;32m~\\anaconda3\\Lib\\site-packages\\selenium\\webdriver\\remote\\webelement.py:417\u001b[0m, in \u001b[0;36mWebElement.find_element\u001b[1;34m(self, by, value)\u001b[0m\n\u001b[0;32m    414\u001b[0m     by \u001b[38;5;241m=\u001b[39m By\u001b[38;5;241m.\u001b[39mCSS_SELECTOR\n\u001b[0;32m    415\u001b[0m     value \u001b[38;5;241m=\u001b[39m \u001b[38;5;124mf\u001b[39m\u001b[38;5;124m'\u001b[39m\u001b[38;5;124m[name=\u001b[39m\u001b[38;5;124m\"\u001b[39m\u001b[38;5;132;01m{\u001b[39;00mvalue\u001b[38;5;132;01m}\u001b[39;00m\u001b[38;5;124m\"\u001b[39m\u001b[38;5;124m]\u001b[39m\u001b[38;5;124m'\u001b[39m\n\u001b[1;32m--> 417\u001b[0m \u001b[38;5;28;01mreturn\u001b[39;00m \u001b[38;5;28mself\u001b[39m\u001b[38;5;241m.\u001b[39m_execute(Command\u001b[38;5;241m.\u001b[39mFIND_CHILD_ELEMENT, {\u001b[38;5;124m\"\u001b[39m\u001b[38;5;124musing\u001b[39m\u001b[38;5;124m\"\u001b[39m: by, \u001b[38;5;124m\"\u001b[39m\u001b[38;5;124mvalue\u001b[39m\u001b[38;5;124m\"\u001b[39m: value})[\u001b[38;5;124m\"\u001b[39m\u001b[38;5;124mvalue\u001b[39m\u001b[38;5;124m\"\u001b[39m]\n",
      "File \u001b[1;32m~\\anaconda3\\Lib\\site-packages\\selenium\\webdriver\\remote\\webelement.py:395\u001b[0m, in \u001b[0;36mWebElement._execute\u001b[1;34m(self, command, params)\u001b[0m\n\u001b[0;32m    393\u001b[0m     params \u001b[38;5;241m=\u001b[39m {}\n\u001b[0;32m    394\u001b[0m params[\u001b[38;5;124m\"\u001b[39m\u001b[38;5;124mid\u001b[39m\u001b[38;5;124m\"\u001b[39m] \u001b[38;5;241m=\u001b[39m \u001b[38;5;28mself\u001b[39m\u001b[38;5;241m.\u001b[39m_id\n\u001b[1;32m--> 395\u001b[0m \u001b[38;5;28;01mreturn\u001b[39;00m \u001b[38;5;28mself\u001b[39m\u001b[38;5;241m.\u001b[39m_parent\u001b[38;5;241m.\u001b[39mexecute(command, params)\n",
      "File \u001b[1;32m~\\anaconda3\\Lib\\site-packages\\selenium\\webdriver\\remote\\webdriver.py:348\u001b[0m, in \u001b[0;36mWebDriver.execute\u001b[1;34m(self, driver_command, params)\u001b[0m\n\u001b[0;32m    346\u001b[0m response \u001b[38;5;241m=\u001b[39m \u001b[38;5;28mself\u001b[39m\u001b[38;5;241m.\u001b[39mcommand_executor\u001b[38;5;241m.\u001b[39mexecute(driver_command, params)\n\u001b[0;32m    347\u001b[0m \u001b[38;5;28;01mif\u001b[39;00m response:\n\u001b[1;32m--> 348\u001b[0m     \u001b[38;5;28mself\u001b[39m\u001b[38;5;241m.\u001b[39merror_handler\u001b[38;5;241m.\u001b[39mcheck_response(response)\n\u001b[0;32m    349\u001b[0m     response[\u001b[38;5;124m\"\u001b[39m\u001b[38;5;124mvalue\u001b[39m\u001b[38;5;124m\"\u001b[39m] \u001b[38;5;241m=\u001b[39m \u001b[38;5;28mself\u001b[39m\u001b[38;5;241m.\u001b[39m_unwrap_value(response\u001b[38;5;241m.\u001b[39mget(\u001b[38;5;124m\"\u001b[39m\u001b[38;5;124mvalue\u001b[39m\u001b[38;5;124m\"\u001b[39m, \u001b[38;5;28;01mNone\u001b[39;00m))\n\u001b[0;32m    350\u001b[0m     \u001b[38;5;28;01mreturn\u001b[39;00m response\n",
      "File \u001b[1;32m~\\anaconda3\\Lib\\site-packages\\selenium\\webdriver\\remote\\errorhandler.py:229\u001b[0m, in \u001b[0;36mErrorHandler.check_response\u001b[1;34m(self, response)\u001b[0m\n\u001b[0;32m    227\u001b[0m         alert_text \u001b[38;5;241m=\u001b[39m value[\u001b[38;5;124m\"\u001b[39m\u001b[38;5;124malert\u001b[39m\u001b[38;5;124m\"\u001b[39m]\u001b[38;5;241m.\u001b[39mget(\u001b[38;5;124m\"\u001b[39m\u001b[38;5;124mtext\u001b[39m\u001b[38;5;124m\"\u001b[39m)\n\u001b[0;32m    228\u001b[0m     \u001b[38;5;28;01mraise\u001b[39;00m exception_class(message, screen, stacktrace, alert_text)  \u001b[38;5;66;03m# type: ignore[call-arg]  # mypy is not smart enough here\u001b[39;00m\n\u001b[1;32m--> 229\u001b[0m \u001b[38;5;28;01mraise\u001b[39;00m exception_class(message, screen, stacktrace)\n",
      "\u001b[1;31mNoSuchElementException\u001b[0m: Message: no such element: Unable to locate element: {\"method\":\"tag name\",\"selector\":\"span\"}\n  (Session info: chrome=121.0.6167.189); For documentation on this error, please visit: https://www.selenium.dev/documentation/webdriver/troubleshooting/errors#no-such-element-exception\nStacktrace:\n\tGetHandleVerifier [0x00007FF6AF017012+3522402]\n\t(No symbol) [0x00007FF6AEC38352]\n\t(No symbol) [0x00007FF6AEAE5ABB]\n\t(No symbol) [0x00007FF6AEB2BF0E]\n\t(No symbol) [0x00007FF6AEB2C08C]\n\t(No symbol) [0x00007FF6AEB212AC]\n\t(No symbol) [0x00007FF6AEB4F09F]\n\t(No symbol) [0x00007FF6AEB2120A]\n\t(No symbol) [0x00007FF6AEB4F270]\n\t(No symbol) [0x00007FF6AEB6BDA3]\n\t(No symbol) [0x00007FF6AEB4EE03]\n\t(No symbol) [0x00007FF6AEB1F4D4]\n\t(No symbol) [0x00007FF6AEB205F1]\n\tGetHandleVerifier [0x00007FF6AF049B9D+3730157]\n\tGetHandleVerifier [0x00007FF6AF09F02D+4079485]\n\tGetHandleVerifier [0x00007FF6AF0975D3+4048163]\n\tGetHandleVerifier [0x00007FF6AED6A649+718233]\n\t(No symbol) [0x00007FF6AEC44A3F]\n\t(No symbol) [0x00007FF6AEC3FA94]\n\t(No symbol) [0x00007FF6AEC3FBC2]\n\t(No symbol) [0x00007FF6AEC2F2E4]\n\tBaseThreadInitThunk [0x00007FFDA2FC257D+29]\n\tRtlUserThreadStart [0x00007FFDA3ECAA58+40]\n"
     ]
    }
   ],
   "source": [
    "tds[-2].find_element(By.TAG_NAME,\"span\").text"
   ]
  },
  {
   "cell_type": "code",
   "execution_count": 110,
   "id": "85fd413a",
   "metadata": {},
   "outputs": [
    {
     "data": {
      "text/plain": [
       "'IIT Ropar - Indian Institute of Technology - [IITR], Ropar\\nRopar, Punjab |AICTE, UGC Approved'"
      ]
     },
     "execution_count": 110,
     "metadata": {},
     "output_type": "execute_result"
    }
   ],
   "source": [
    "coll[34].text"
   ]
  },
  {
   "cell_type": "code",
   "execution_count": 114,
   "id": "0ca6cec4",
   "metadata": {},
   "outputs": [],
   "source": [
    "all_colleges = d.find_elements(By.CSS_SELECTOR,'listing-block')"
   ]
  },
  {
   "cell_type": "code",
   "execution_count": 115,
   "id": "3304c3f2",
   "metadata": {},
   "outputs": [
    {
     "data": {
      "text/plain": [
       "[]"
      ]
     },
     "execution_count": 115,
     "metadata": {},
     "output_type": "execute_result"
    }
   ],
   "source": [
    "all_colleges"
   ]
  },
  {
   "cell_type": "code",
   "execution_count": 169,
   "id": "d08b11b1",
   "metadata": {},
   "outputs": [],
   "source": [
    "c=d.find_elements(By.CLASS_NAME,\"clg-column\")"
   ]
  },
  {
   "cell_type": "code",
   "execution_count": 170,
   "id": "0d2e3eef",
   "metadata": {},
   "outputs": [
    {
     "data": {
      "text/plain": [
       "35"
      ]
     },
     "execution_count": 170,
     "metadata": {},
     "output_type": "execute_result"
    }
   ],
   "source": [
    "len(c)"
   ]
  },
  {
   "cell_type": "code",
   "execution_count": 143,
   "id": "c9c009f0",
   "metadata": {},
   "outputs": [
    {
     "data": {
      "text/plain": [
       "'https://images.collegedunia.com/public/college_data/images/logos/1434977143jpjpjpjpj.jpg?h=43&w=43&mode=stretch'"
      ]
     },
     "execution_count": 143,
     "metadata": {},
     "output_type": "execute_result"
    }
   ],
   "source": [
    "c[0].find_element(By.TAG_NAME,'img').get_attribute('src')"
   ]
  },
  {
   "cell_type": "code",
   "execution_count": 144,
   "id": "fd67e368",
   "metadata": {},
   "outputs": [
    {
     "data": {
      "text/plain": [
       "'IIT Madras - Indian Institute of Technology - [IITM], Chennai'"
      ]
     },
     "execution_count": 144,
     "metadata": {},
     "output_type": "execute_result"
    }
   ],
   "source": [
    "c[0].find_element(By.TAG_NAME,\"h3\").text"
   ]
  },
  {
   "cell_type": "code",
   "execution_count": 145,
   "id": "accaca93",
   "metadata": {},
   "outputs": [
    {
     "data": {
      "text/plain": [
       "'Chennai, Tamil Nadu'"
      ]
     },
     "execution_count": 145,
     "metadata": {},
     "output_type": "execute_result"
    }
   ],
   "source": [
    "c[0].find_element(By.TAG_NAME,\"span\").text"
   ]
  },
  {
   "cell_type": "code",
   "execution_count": null,
   "id": "6ebba098",
   "metadata": {},
   "outputs": [],
   "source": []
  },
  {
   "cell_type": "markdown",
   "id": "e0f0d8ba",
   "metadata": {},
   "source": [
    "# Project: Scrape college details from CollegeDunia website using selenium"
   ]
  },
  {
   "cell_type": "code",
   "execution_count": 18,
   "id": "6807f096",
   "metadata": {},
   "outputs": [],
   "source": [
    "\n",
    "a=driver.find_elements(By.CLASS_NAME,\"jsx-4195465033 \")"
   ]
  },
  {
   "cell_type": "code",
   "execution_count": 19,
   "id": "7b214c5a",
   "metadata": {},
   "outputs": [
    {
     "data": {
      "text/plain": [
       "0"
      ]
     },
     "execution_count": 19,
     "metadata": {},
     "output_type": "execute_result"
    }
   ],
   "source": [
    "len(a)"
   ]
  },
  {
   "cell_type": "code",
   "execution_count": null,
   "id": "95bfd0c1",
   "metadata": {},
   "outputs": [],
   "source": []
  },
  {
   "cell_type": "code",
   "execution_count": null,
   "id": "16741859",
   "metadata": {},
   "outputs": [],
   "source": []
  },
  {
   "cell_type": "code",
   "execution_count": 1,
   "id": "65da02fe",
   "metadata": {},
   "outputs": [],
   "source": [
    "from selenium import webdriver\n",
    "from selenium.webdriver.common.by import By\n",
    "import pandas as pd"
   ]
  },
  {
   "cell_type": "code",
   "execution_count": 29,
   "id": "d6f80d0c",
   "metadata": {},
   "outputs": [],
   "source": [
    "driver= webdriver.Chrome()"
   ]
  },
  {
   "cell_type": "code",
   "execution_count": 4,
   "id": "832a7039",
   "metadata": {},
   "outputs": [],
   "source": [
    "driver.get(\"https://collegedunia.com/engineering-colleges\")"
   ]
  },
  {
   "cell_type": "code",
   "execution_count": 22,
   "id": "f21b75d0",
   "metadata": {},
   "outputs": [],
   "source": [
    "df=pd.DataFrame({},columns=['Logo','Name', 'Location'])"
   ]
  },
  {
   "cell_type": "code",
   "execution_count": 23,
   "id": "bb67a956",
   "metadata": {},
   "outputs": [
    {
     "data": {
      "text/html": [
       "<div>\n",
       "<style scoped>\n",
       "    .dataframe tbody tr th:only-of-type {\n",
       "        vertical-align: middle;\n",
       "    }\n",
       "\n",
       "    .dataframe tbody tr th {\n",
       "        vertical-align: top;\n",
       "    }\n",
       "\n",
       "    .dataframe thead th {\n",
       "        text-align: right;\n",
       "    }\n",
       "</style>\n",
       "<table border=\"1\" class=\"dataframe\">\n",
       "  <thead>\n",
       "    <tr style=\"text-align: right;\">\n",
       "      <th></th>\n",
       "      <th>Logo</th>\n",
       "      <th>Name</th>\n",
       "      <th>Location</th>\n",
       "    </tr>\n",
       "  </thead>\n",
       "  <tbody>\n",
       "  </tbody>\n",
       "</table>\n",
       "</div>"
      ],
      "text/plain": [
       "Empty DataFrame\n",
       "Columns: [Logo, Name, Location]\n",
       "Index: []"
      ]
     },
     "execution_count": 23,
     "metadata": {},
     "output_type": "execute_result"
    }
   ],
   "source": [
    "df"
   ]
  },
  {
   "cell_type": "code",
   "execution_count": 9,
   "id": "75a5fc35",
   "metadata": {},
   "outputs": [],
   "source": [
    "all_college=driver.find_elements(By.CLASS_NAME,\"clg-column\")\n",
    "    "
   ]
  },
  {
   "cell_type": "code",
   "execution_count": 20,
   "id": "f9b3cd20",
   "metadata": {},
   "outputs": [
    {
     "data": {
      "text/plain": [
       "35"
      ]
     },
     "execution_count": 20,
     "metadata": {},
     "output_type": "execute_result"
    }
   ],
   "source": [
    "len(all_college)"
   ]
  },
  {
   "cell_type": "code",
   "execution_count": 24,
   "id": "0ad38f69",
   "metadata": {},
   "outputs": [],
   "source": [
    "\n",
    "for college in all_college:\n",
    "    Logo=college.find_element(By.TAG_NAME,'img').get_attribute('src')\n",
    "    Name=college.find_element(By.TAG_NAME,\"h3\").text\n",
    "    Location=college.find_element(By.TAG_NAME,\"span\").text\n",
    "    #Rating=college.find_elements(By.TAG_NAME,'td')[-2].find_element(By.TAG_NAME,\"span\").text\n",
    "    \n",
    "    e={'Logo':Logo,'Name':Name,'Location':Location}\n",
    "    df=pd.concat([df,pd.DataFrame([e])],ignore_index=True)"
   ]
  },
  {
   "cell_type": "code",
   "execution_count": 25,
   "id": "a7f21fb9",
   "metadata": {},
   "outputs": [
    {
     "data": {
      "text/html": [
       "<div>\n",
       "<style scoped>\n",
       "    .dataframe tbody tr th:only-of-type {\n",
       "        vertical-align: middle;\n",
       "    }\n",
       "\n",
       "    .dataframe tbody tr th {\n",
       "        vertical-align: top;\n",
       "    }\n",
       "\n",
       "    .dataframe thead th {\n",
       "        text-align: right;\n",
       "    }\n",
       "</style>\n",
       "<table border=\"1\" class=\"dataframe\">\n",
       "  <thead>\n",
       "    <tr style=\"text-align: right;\">\n",
       "      <th></th>\n",
       "      <th>Logo</th>\n",
       "      <th>Name</th>\n",
       "      <th>Location</th>\n",
       "    </tr>\n",
       "  </thead>\n",
       "  <tbody>\n",
       "    <tr>\n",
       "      <th>0</th>\n",
       "      <td>https://images.collegedunia.com/public/college...</td>\n",
       "      <td>IIT Madras - Indian Institute of Technology - ...</td>\n",
       "      <td>Chennai, Tamil Nadu</td>\n",
       "    </tr>\n",
       "    <tr>\n",
       "      <th>1</th>\n",
       "      <td>https://images.collegedunia.com/public/college...</td>\n",
       "      <td>IIT Delhi - Indian Institute of Technology [II...</td>\n",
       "      <td>New Delhi, Delhi NCR</td>\n",
       "    </tr>\n",
       "    <tr>\n",
       "      <th>2</th>\n",
       "      <td>data:image/gif;base64,R0lGODlhAQABAIAAAHd3dwAA...</td>\n",
       "      <td>Parul University, Vadodara</td>\n",
       "      <td>Vadodara, Gujarat</td>\n",
       "    </tr>\n",
       "    <tr>\n",
       "      <th>3</th>\n",
       "      <td>data:image/gif;base64,R0lGODlhAQABAIAAAHd3dwAA...</td>\n",
       "      <td>IIT Bombay - Indian Institute of Technology - ...</td>\n",
       "      <td>Mumbai, Maharashtra</td>\n",
       "    </tr>\n",
       "    <tr>\n",
       "      <th>4</th>\n",
       "      <td>data:image/gif;base64,R0lGODlhAQABAIAAAHd3dwAA...</td>\n",
       "      <td>MIT World Peace University - [MIT-WPU], Pune</td>\n",
       "      <td>Pune, Maharashtra</td>\n",
       "    </tr>\n",
       "    <tr>\n",
       "      <th>5</th>\n",
       "      <td>data:image/gif;base64,R0lGODlhAQABAIAAAHd3dwAA...</td>\n",
       "      <td>IIT Kharagpur - Indian Institute of Technology...</td>\n",
       "      <td>Kharagpur, West Bengal</td>\n",
       "    </tr>\n",
       "    <tr>\n",
       "      <th>6</th>\n",
       "      <td>data:image/gif;base64,R0lGODlhAQABAIAAAHd3dwAA...</td>\n",
       "      <td>HKBK Group of Institutions, Bangalore</td>\n",
       "      <td>Bangalore, Karnataka</td>\n",
       "    </tr>\n",
       "    <tr>\n",
       "      <th>7</th>\n",
       "      <td>data:image/gif;base64,R0lGODlhAQABAIAAAHd3dwAA...</td>\n",
       "      <td>IIT Kanpur - Indian Institute of Technology - ...</td>\n",
       "      <td>Kanpur, Uttar Pradesh</td>\n",
       "    </tr>\n",
       "    <tr>\n",
       "      <th>8</th>\n",
       "      <td>data:image/gif;base64,R0lGODlhAQABAIAAAHd3dwAA...</td>\n",
       "      <td>B. N. M. Institute of Technology - [BNMIT], Ba...</td>\n",
       "      <td>Bangalore, Karnataka</td>\n",
       "    </tr>\n",
       "    <tr>\n",
       "      <th>9</th>\n",
       "      <td>data:image/gif;base64,R0lGODlhAQABAIAAAHd3dwAA...</td>\n",
       "      <td>IIT Roorkee - Indian Institute of Technology -...</td>\n",
       "      <td>Roorkee, Uttarakhand</td>\n",
       "    </tr>\n",
       "    <tr>\n",
       "      <th>10</th>\n",
       "      <td>data:image/gif;base64,R0lGODlhAQABAIAAAHd3dwAA...</td>\n",
       "      <td>Cambridge Institute of Technology - [CiTech], ...</td>\n",
       "      <td>Bangalore, Karnataka</td>\n",
       "    </tr>\n",
       "    <tr>\n",
       "      <th>11</th>\n",
       "      <td>data:image/gif;base64,R0lGODlhAQABAIAAAHd3dwAA...</td>\n",
       "      <td>BITS Pilani (Pilani Campus), Pilani</td>\n",
       "      <td>Pilani, Rajasthan</td>\n",
       "    </tr>\n",
       "    <tr>\n",
       "      <th>12</th>\n",
       "      <td>data:image/gif;base64,R0lGODlhAQABAIAAAHd3dwAA...</td>\n",
       "      <td>IIT Guwahati - Indian Institute of Technology ...</td>\n",
       "      <td>Guwahati, Assam</td>\n",
       "    </tr>\n",
       "    <tr>\n",
       "      <th>13</th>\n",
       "      <td>data:image/gif;base64,R0lGODlhAQABAIAAAHd3dwAA...</td>\n",
       "      <td>IIT Hyderabad - Indian Institute of Technology...</td>\n",
       "      <td>Hyderabad, Telangana</td>\n",
       "    </tr>\n",
       "    <tr>\n",
       "      <th>14</th>\n",
       "      <td>data:image/gif;base64,R0lGODlhAQABAIAAAHd3dwAA...</td>\n",
       "      <td>College of Engineering, Anna University - [CEG...</td>\n",
       "      <td>Chennai, Tamil Nadu</td>\n",
       "    </tr>\n",
       "    <tr>\n",
       "      <th>15</th>\n",
       "      <td>data:image/gif;base64,R0lGODlhAQABAIAAAHd3dwAA...</td>\n",
       "      <td>NIT Trichy, Tiruchirappalli</td>\n",
       "      <td>Tiruchirappalli, Tamil Nadu</td>\n",
       "    </tr>\n",
       "    <tr>\n",
       "      <th>16</th>\n",
       "      <td>data:image/gif;base64,R0lGODlhAQABAIAAAHd3dwAA...</td>\n",
       "      <td>IIT BHU - Indian Institute of Technology, Vara...</td>\n",
       "      <td>Varanasi, Uttar Pradesh</td>\n",
       "    </tr>\n",
       "    <tr>\n",
       "      <th>17</th>\n",
       "      <td>data:image/gif;base64,R0lGODlhAQABAIAAAHd3dwAA...</td>\n",
       "      <td>Institute of Chemical Technology - [ICT], Mumbai</td>\n",
       "      <td>Mumbai, Maharashtra</td>\n",
       "    </tr>\n",
       "    <tr>\n",
       "      <th>18</th>\n",
       "      <td>data:image/gif;base64,R0lGODlhAQABAIAAAHd3dwAA...</td>\n",
       "      <td>IIT Indore - Indian Institute of Technology - ...</td>\n",
       "      <td>Indore, Madhya Pradesh</td>\n",
       "    </tr>\n",
       "    <tr>\n",
       "      <th>19</th>\n",
       "      <td>data:image/gif;base64,R0lGODlhAQABAIAAAHd3dwAA...</td>\n",
       "      <td>Jadavpur University - [JU], Kolkata</td>\n",
       "      <td>Kolkata, West Bengal</td>\n",
       "    </tr>\n",
       "    <tr>\n",
       "      <th>20</th>\n",
       "      <td>data:image/gif;base64,R0lGODlhAQABAIAAAHd3dwAA...</td>\n",
       "      <td>ISM Dhanbad - Indian Institute of Technology -...</td>\n",
       "      <td>Dhanbad, Jharkhand</td>\n",
       "    </tr>\n",
       "    <tr>\n",
       "      <th>21</th>\n",
       "      <td>data:image/gif;base64,R0lGODlhAQABAIAAAHd3dwAA...</td>\n",
       "      <td>National Institute of Technology - [NIT], Rour...</td>\n",
       "      <td>Rourkela, Odisha</td>\n",
       "    </tr>\n",
       "    <tr>\n",
       "      <th>22</th>\n",
       "      <td>data:image/gif;base64,R0lGODlhAQABAIAAAHd3dwAA...</td>\n",
       "      <td>IIT Bhubaneswar - Indian Institute of Technolo...</td>\n",
       "      <td>Bhubaneswar, Odisha</td>\n",
       "    </tr>\n",
       "    <tr>\n",
       "      <th>23</th>\n",
       "      <td>data:image/gif;base64,R0lGODlhAQABAIAAAHd3dwAA...</td>\n",
       "      <td>Vellore Institute of Technology - [VIT Univers...</td>\n",
       "      <td>Vellore, Tamil Nadu</td>\n",
       "    </tr>\n",
       "    <tr>\n",
       "      <th>24</th>\n",
       "      <td>data:image/gif;base64,R0lGODlhAQABAIAAAHd3dwAA...</td>\n",
       "      <td>Indian Institute of Engineering Science and Te...</td>\n",
       "      <td>Howrah, West Bengal</td>\n",
       "    </tr>\n",
       "    <tr>\n",
       "      <th>25</th>\n",
       "      <td>data:image/gif;base64,R0lGODlhAQABAIAAAHd3dwAA...</td>\n",
       "      <td>IIT Mandi- Indian Institute of Technology - [I...</td>\n",
       "      <td>Mandi, Himachal Pradesh</td>\n",
       "    </tr>\n",
       "    <tr>\n",
       "      <th>26</th>\n",
       "      <td>data:image/gif;base64,R0lGODlhAQABAIAAAHd3dwAA...</td>\n",
       "      <td>National Institute of Technology - [NITK], Sur...</td>\n",
       "      <td>Surathkal, Karnataka</td>\n",
       "    </tr>\n",
       "    <tr>\n",
       "      <th>27</th>\n",
       "      <td>data:image/gif;base64,R0lGODlhAQABAIAAAHd3dwAA...</td>\n",
       "      <td>IIT Patna - Indian Institute of Technology - [...</td>\n",
       "      <td>Patna, Bihar</td>\n",
       "    </tr>\n",
       "    <tr>\n",
       "      <th>28</th>\n",
       "      <td>data:image/gif;base64,R0lGODlhAQABAIAAAHd3dwAA...</td>\n",
       "      <td>Thapar Institute of Engineering and Technology...</td>\n",
       "      <td>Patiala, Punjab</td>\n",
       "    </tr>\n",
       "    <tr>\n",
       "      <th>29</th>\n",
       "      <td>data:image/gif;base64,R0lGODlhAQABAIAAAHd3dwAA...</td>\n",
       "      <td>IIT Gandhinagar - Indian Institute of Technolo...</td>\n",
       "      <td>Gandhinagar, Gujarat</td>\n",
       "    </tr>\n",
       "    <tr>\n",
       "      <th>30</th>\n",
       "      <td>data:image/gif;base64,R0lGODlhAQABAIAAAHd3dwAA...</td>\n",
       "      <td>NIT Warangal, Warangal</td>\n",
       "      <td>Warangal, Telangana</td>\n",
       "    </tr>\n",
       "    <tr>\n",
       "      <th>31</th>\n",
       "      <td>data:image/gif;base64,R0lGODlhAQABAIAAAHd3dwAA...</td>\n",
       "      <td>Delhi Technological University - [DTU], New Delhi</td>\n",
       "      <td>New Delhi, Delhi NCR</td>\n",
       "    </tr>\n",
       "    <tr>\n",
       "      <th>32</th>\n",
       "      <td>data:image/gif;base64,R0lGODlhAQABAIAAAHd3dwAA...</td>\n",
       "      <td>Jamia Millia Islamia University-[JMI], New Delhi</td>\n",
       "      <td>New Delhi, Delhi NCR</td>\n",
       "    </tr>\n",
       "    <tr>\n",
       "      <th>33</th>\n",
       "      <td>data:image/gif;base64,R0lGODlhAQABAIAAAHd3dwAA...</td>\n",
       "      <td>National Institute of Technology - [NITC], Cal...</td>\n",
       "      <td>Calicut, Kerala</td>\n",
       "    </tr>\n",
       "    <tr>\n",
       "      <th>34</th>\n",
       "      <td>data:image/gif;base64,R0lGODlhAQABAIAAAHd3dwAA...</td>\n",
       "      <td>IIT Ropar - Indian Institute of Technology - [...</td>\n",
       "      <td>Ropar, Punjab</td>\n",
       "    </tr>\n",
       "  </tbody>\n",
       "</table>\n",
       "</div>"
      ],
      "text/plain": [
       "                                                 Logo  \\\n",
       "0   https://images.collegedunia.com/public/college...   \n",
       "1   https://images.collegedunia.com/public/college...   \n",
       "2   data:image/gif;base64,R0lGODlhAQABAIAAAHd3dwAA...   \n",
       "3   data:image/gif;base64,R0lGODlhAQABAIAAAHd3dwAA...   \n",
       "4   data:image/gif;base64,R0lGODlhAQABAIAAAHd3dwAA...   \n",
       "5   data:image/gif;base64,R0lGODlhAQABAIAAAHd3dwAA...   \n",
       "6   data:image/gif;base64,R0lGODlhAQABAIAAAHd3dwAA...   \n",
       "7   data:image/gif;base64,R0lGODlhAQABAIAAAHd3dwAA...   \n",
       "8   data:image/gif;base64,R0lGODlhAQABAIAAAHd3dwAA...   \n",
       "9   data:image/gif;base64,R0lGODlhAQABAIAAAHd3dwAA...   \n",
       "10  data:image/gif;base64,R0lGODlhAQABAIAAAHd3dwAA...   \n",
       "11  data:image/gif;base64,R0lGODlhAQABAIAAAHd3dwAA...   \n",
       "12  data:image/gif;base64,R0lGODlhAQABAIAAAHd3dwAA...   \n",
       "13  data:image/gif;base64,R0lGODlhAQABAIAAAHd3dwAA...   \n",
       "14  data:image/gif;base64,R0lGODlhAQABAIAAAHd3dwAA...   \n",
       "15  data:image/gif;base64,R0lGODlhAQABAIAAAHd3dwAA...   \n",
       "16  data:image/gif;base64,R0lGODlhAQABAIAAAHd3dwAA...   \n",
       "17  data:image/gif;base64,R0lGODlhAQABAIAAAHd3dwAA...   \n",
       "18  data:image/gif;base64,R0lGODlhAQABAIAAAHd3dwAA...   \n",
       "19  data:image/gif;base64,R0lGODlhAQABAIAAAHd3dwAA...   \n",
       "20  data:image/gif;base64,R0lGODlhAQABAIAAAHd3dwAA...   \n",
       "21  data:image/gif;base64,R0lGODlhAQABAIAAAHd3dwAA...   \n",
       "22  data:image/gif;base64,R0lGODlhAQABAIAAAHd3dwAA...   \n",
       "23  data:image/gif;base64,R0lGODlhAQABAIAAAHd3dwAA...   \n",
       "24  data:image/gif;base64,R0lGODlhAQABAIAAAHd3dwAA...   \n",
       "25  data:image/gif;base64,R0lGODlhAQABAIAAAHd3dwAA...   \n",
       "26  data:image/gif;base64,R0lGODlhAQABAIAAAHd3dwAA...   \n",
       "27  data:image/gif;base64,R0lGODlhAQABAIAAAHd3dwAA...   \n",
       "28  data:image/gif;base64,R0lGODlhAQABAIAAAHd3dwAA...   \n",
       "29  data:image/gif;base64,R0lGODlhAQABAIAAAHd3dwAA...   \n",
       "30  data:image/gif;base64,R0lGODlhAQABAIAAAHd3dwAA...   \n",
       "31  data:image/gif;base64,R0lGODlhAQABAIAAAHd3dwAA...   \n",
       "32  data:image/gif;base64,R0lGODlhAQABAIAAAHd3dwAA...   \n",
       "33  data:image/gif;base64,R0lGODlhAQABAIAAAHd3dwAA...   \n",
       "34  data:image/gif;base64,R0lGODlhAQABAIAAAHd3dwAA...   \n",
       "\n",
       "                                                 Name  \\\n",
       "0   IIT Madras - Indian Institute of Technology - ...   \n",
       "1   IIT Delhi - Indian Institute of Technology [II...   \n",
       "2                          Parul University, Vadodara   \n",
       "3   IIT Bombay - Indian Institute of Technology - ...   \n",
       "4        MIT World Peace University - [MIT-WPU], Pune   \n",
       "5   IIT Kharagpur - Indian Institute of Technology...   \n",
       "6               HKBK Group of Institutions, Bangalore   \n",
       "7   IIT Kanpur - Indian Institute of Technology - ...   \n",
       "8   B. N. M. Institute of Technology - [BNMIT], Ba...   \n",
       "9   IIT Roorkee - Indian Institute of Technology -...   \n",
       "10  Cambridge Institute of Technology - [CiTech], ...   \n",
       "11                BITS Pilani (Pilani Campus), Pilani   \n",
       "12  IIT Guwahati - Indian Institute of Technology ...   \n",
       "13  IIT Hyderabad - Indian Institute of Technology...   \n",
       "14  College of Engineering, Anna University - [CEG...   \n",
       "15                        NIT Trichy, Tiruchirappalli   \n",
       "16  IIT BHU - Indian Institute of Technology, Vara...   \n",
       "17   Institute of Chemical Technology - [ICT], Mumbai   \n",
       "18  IIT Indore - Indian Institute of Technology - ...   \n",
       "19                Jadavpur University - [JU], Kolkata   \n",
       "20  ISM Dhanbad - Indian Institute of Technology -...   \n",
       "21  National Institute of Technology - [NIT], Rour...   \n",
       "22  IIT Bhubaneswar - Indian Institute of Technolo...   \n",
       "23  Vellore Institute of Technology - [VIT Univers...   \n",
       "24  Indian Institute of Engineering Science and Te...   \n",
       "25  IIT Mandi- Indian Institute of Technology - [I...   \n",
       "26  National Institute of Technology - [NITK], Sur...   \n",
       "27  IIT Patna - Indian Institute of Technology - [...   \n",
       "28  Thapar Institute of Engineering and Technology...   \n",
       "29  IIT Gandhinagar - Indian Institute of Technolo...   \n",
       "30                             NIT Warangal, Warangal   \n",
       "31  Delhi Technological University - [DTU], New Delhi   \n",
       "32   Jamia Millia Islamia University-[JMI], New Delhi   \n",
       "33  National Institute of Technology - [NITC], Cal...   \n",
       "34  IIT Ropar - Indian Institute of Technology - [...   \n",
       "\n",
       "                       Location  \n",
       "0           Chennai, Tamil Nadu  \n",
       "1          New Delhi, Delhi NCR  \n",
       "2             Vadodara, Gujarat  \n",
       "3           Mumbai, Maharashtra  \n",
       "4             Pune, Maharashtra  \n",
       "5        Kharagpur, West Bengal  \n",
       "6          Bangalore, Karnataka  \n",
       "7         Kanpur, Uttar Pradesh  \n",
       "8          Bangalore, Karnataka  \n",
       "9          Roorkee, Uttarakhand  \n",
       "10         Bangalore, Karnataka  \n",
       "11            Pilani, Rajasthan  \n",
       "12              Guwahati, Assam  \n",
       "13         Hyderabad, Telangana  \n",
       "14          Chennai, Tamil Nadu  \n",
       "15  Tiruchirappalli, Tamil Nadu  \n",
       "16      Varanasi, Uttar Pradesh  \n",
       "17          Mumbai, Maharashtra  \n",
       "18       Indore, Madhya Pradesh  \n",
       "19         Kolkata, West Bengal  \n",
       "20           Dhanbad, Jharkhand  \n",
       "21             Rourkela, Odisha  \n",
       "22          Bhubaneswar, Odisha  \n",
       "23          Vellore, Tamil Nadu  \n",
       "24          Howrah, West Bengal  \n",
       "25      Mandi, Himachal Pradesh  \n",
       "26         Surathkal, Karnataka  \n",
       "27                 Patna, Bihar  \n",
       "28              Patiala, Punjab  \n",
       "29         Gandhinagar, Gujarat  \n",
       "30          Warangal, Telangana  \n",
       "31         New Delhi, Delhi NCR  \n",
       "32         New Delhi, Delhi NCR  \n",
       "33              Calicut, Kerala  \n",
       "34                Ropar, Punjab  "
      ]
     },
     "execution_count": 25,
     "metadata": {},
     "output_type": "execute_result"
    }
   ],
   "source": [
    "df"
   ]
  },
  {
   "cell_type": "code",
   "execution_count": 26,
   "id": "bb281565",
   "metadata": {},
   "outputs": [],
   "source": [
    "df.to_csv(\"college.csv\",index=False)"
   ]
  },
  {
   "cell_type": "code",
   "execution_count": 189,
   "id": "e5d7a425",
   "metadata": {},
   "outputs": [
    {
     "data": {
      "text/plain": [
       "'https://images.collegedunia.com/public/college_data/images/logos/1434977143jpjpjpjpj.jpg?h=43&w=43&mode=stretch'"
      ]
     },
     "execution_count": 189,
     "metadata": {},
     "output_type": "execute_result"
    }
   ],
   "source": [
    "all_college[0].find_elements(By.TAG_NAME,'td')[1].find_element(By.TAG_NAME,'img').get_attribute('src')"
   ]
  },
  {
   "cell_type": "code",
   "execution_count": 202,
   "id": "57b309a3",
   "metadata": {},
   "outputs": [
    {
     "ename": "IndexError",
     "evalue": "list index out of range",
     "output_type": "error",
     "traceback": [
      "\u001b[1;31m---------------------------------------------------------------------------\u001b[0m",
      "\u001b[1;31mIndexError\u001b[0m                                Traceback (most recent call last)",
      "Cell \u001b[1;32mIn[202], line 1\u001b[0m\n\u001b[1;32m----> 1\u001b[0m all_college[\u001b[38;5;241m5\u001b[39m]\u001b[38;5;241m.\u001b[39mfind_elements(By\u001b[38;5;241m.\u001b[39mTAG_NAME,\u001b[38;5;124m'\u001b[39m\u001b[38;5;124mtd\u001b[39m\u001b[38;5;124m'\u001b[39m)[\u001b[38;5;241m1\u001b[39m]\u001b[38;5;241m.\u001b[39mtext\n",
      "\u001b[1;31mIndexError\u001b[0m: list index out of range"
     ]
    }
   ],
   "source": [
    "all_college[5].find_elements(By.TAG_NAME,'td')[1].text"
   ]
  },
  {
   "cell_type": "code",
   "execution_count": 195,
   "id": "dd949e33",
   "metadata": {},
   "outputs": [
    {
     "data": {
      "text/plain": [
       "111"
      ]
     },
     "execution_count": 195,
     "metadata": {},
     "output_type": "execute_result"
    }
   ],
   "source": [
    "len(all_college)"
   ]
  },
  {
   "cell_type": "code",
   "execution_count": 174,
   "id": "75acd51b",
   "metadata": {},
   "outputs": [
    {
     "data": {
      "text/plain": [
       "'Chennai, Tamil Nadu'"
      ]
     },
     "execution_count": 174,
     "metadata": {},
     "output_type": "execute_result"
    }
   ],
   "source": [
    "a[0].find_element(By.TAG_NAME,\"span\").text"
   ]
  },
  {
   "cell_type": "code",
   "execution_count": 175,
   "id": "2775f9d4",
   "metadata": {},
   "outputs": [
    {
     "data": {
      "text/plain": [
       "'IIT Madras - Indian Institute of Technology - [IITM], Chennai'"
      ]
     },
     "execution_count": 175,
     "metadata": {},
     "output_type": "execute_result"
    }
   ],
   "source": [
    "a[0].find_element(By.TAG_NAME,\"h3\").text"
   ]
  },
  {
   "cell_type": "code",
   "execution_count": 177,
   "id": "e1901a1e",
   "metadata": {},
   "outputs": [],
   "source": [
    "tds=a[0].find_elements(By.TAG_NAME,'td')"
   ]
  },
  {
   "cell_type": "code",
   "execution_count": 179,
   "id": "890cab72",
   "metadata": {},
   "outputs": [
    {
     "data": {
      "text/plain": [
       "'8.7 / 10'"
      ]
     },
     "execution_count": 179,
     "metadata": {},
     "output_type": "execute_result"
    }
   ],
   "source": [
    "tds[-2].find_element(By.TAG_NAME,\"span\").text"
   ]
  },
  {
   "cell_type": "code",
   "execution_count": null,
   "id": "baf37144",
   "metadata": {},
   "outputs": [],
   "source": [
    "df = pd.DataFrame({}, columns= [ 'Img', 'Name', 'Location', 'Rating'])"
   ]
  },
  {
   "cell_type": "code",
   "execution_count": 30,
   "id": "640c6b9b",
   "metadata": {},
   "outputs": [],
   "source": [
    "driver.close()"
   ]
  },
  {
   "cell_type": "code",
   "execution_count": null,
   "id": "c1ca3bb7",
   "metadata": {},
   "outputs": [],
   "source": []
  },
  {
   "cell_type": "markdown",
   "id": "0cb289ad",
   "metadata": {},
   "source": [
    "<center> <h1>Wishing Happy Birthday to your Facebook Friends : </h1></center>\n",
    "<img src=\"./imgs/birthday.gif\" width=\"300\">"
   ]
  },
  {
   "cell_type": "code",
   "execution_count": 84,
   "id": "0e1f6252",
   "metadata": {},
   "outputs": [],
   "source": [
    "import getpass\n",
    "from selenium.webdriver.common.keys import Keys"
   ]
  },
  {
   "cell_type": "code",
   "execution_count": null,
   "id": "a2277eab",
   "metadata": {},
   "outputs": [],
   "source": []
  },
  {
   "cell_type": "code",
   "execution_count": 53,
   "id": "91e81755",
   "metadata": {},
   "outputs": [],
   "source": [
    "driver= webdriver.Chrome()"
   ]
  },
  {
   "cell_type": "code",
   "execution_count": 54,
   "id": "55ee520f",
   "metadata": {},
   "outputs": [],
   "source": [
    "driver.get(\"https://www.facebook.com\")"
   ]
  },
  {
   "cell_type": "code",
   "execution_count": 55,
   "id": "e43e9a66",
   "metadata": {},
   "outputs": [],
   "source": [
    "user =driver.find_element(By.ID,\"email\")\n",
    "password = driver.find_element(By.ID,\"pass\")"
   ]
  },
  {
   "cell_type": "code",
   "execution_count": 56,
   "id": "5b53f51e",
   "metadata": {},
   "outputs": [
    {
     "name": "stdout",
     "output_type": "stream",
     "text": [
      "Enter the email········\n",
      "Enter the password········\n"
     ]
    }
   ],
   "source": [
    "my_id = getpass.getpass(prompt=\"Enter the email\")\n",
    "my_pass = getpass.getpass(prompt=\"Enter the password\")"
   ]
  },
  {
   "cell_type": "code",
   "execution_count": 57,
   "id": "24a4b41d",
   "metadata": {},
   "outputs": [],
   "source": [
    "user.send_keys(my_id)"
   ]
  },
  {
   "cell_type": "code",
   "execution_count": 58,
   "id": "faa439ef",
   "metadata": {},
   "outputs": [],
   "source": [
    "password.send_keys(my_pass)"
   ]
  },
  {
   "cell_type": "code",
   "execution_count": 59,
   "id": "3cdfcf1d",
   "metadata": {},
   "outputs": [],
   "source": [
    "login = driver.find_element(By.NAME,\"login\")"
   ]
  },
  {
   "cell_type": "code",
   "execution_count": 60,
   "id": "a4603cab",
   "metadata": {},
   "outputs": [],
   "source": [
    "login.click()"
   ]
  },
  {
   "cell_type": "code",
   "execution_count": 66,
   "id": "5bb9c124",
   "metadata": {},
   "outputs": [],
   "source": [
    "birthday=driver.find_element(By.XPATH,'//*[@id=\"mount_0_0_ba\"]/div/div[1]/div/div[3]/div/div/div[1]/div[1]/div/div[3]/div/div/div[1]/div/div[1]/div/div[2]/div/a/div[1]/div[2]/div/div/div/div/span')"
   ]
  },
  {
   "cell_type": "code",
   "execution_count": 67,
   "id": "13f740c9",
   "metadata": {},
   "outputs": [],
   "source": [
    "birthday.click()"
   ]
  },
  {
   "cell_type": "code",
   "execution_count": 71,
   "id": "05c5474b",
   "metadata": {},
   "outputs": [],
   "source": [
    "friend=driver.find_element(By.XPATH,'//*[@id=\"mount_0_0_ba\"]/div/div[1]/div/div[4]/div/div/div[1]/div/div[2]/div/div/div/div[3]/div/div/div')"
   ]
  },
  {
   "cell_type": "code",
   "execution_count": 78,
   "id": "768695d0",
   "metadata": {},
   "outputs": [],
   "source": [
    "frnd = friend.find_element(By.TAG_NAME,'form')"
   ]
  },
  {
   "cell_type": "code",
   "execution_count": 82,
   "id": "e2c47215",
   "metadata": {},
   "outputs": [
    {
     "name": "stdout",
     "output_type": "stream",
     "text": [
      "Enter the birthday wishesHappy Birthday!!!!\n"
     ]
    }
   ],
   "source": [
    "message= frnd.find_element(By.CSS_SELECTOR,\".xdj266r\")\n",
    "message.send_keys(input(\"Enter the birthday wishes\"))"
   ]
  },
  {
   "cell_type": "code",
   "execution_count": 85,
   "id": "35dca9b1",
   "metadata": {},
   "outputs": [],
   "source": [
    "message.send_keys(Keys.RETURN)"
   ]
  },
  {
   "cell_type": "raw",
   "id": "58328cbf",
   "metadata": {},
   "source": [
    "friends = driver.find_element(By.XPATH,'/html/body/div[1]/div/div[1]/div[1]/div[4]/div/div/div[1]/div/div[2]/div/div/div/div[3]/div/div/div/div')\n",
    "all_friends = friends.find_elements(By.TAG_NAME,'form')\n",
    "for my_f in list(all_friends):\n",
    "    messageBox = my_f.find_element(By.CSS_SELECTOR,'.xdj266r')\n",
    "    messageBox.send_keys(\"Happy Birthday..!!!\")\n",
    "    messageBox.send_keys(Keys.RETURN)\n",
    "    time.sleep(3)"
   ]
  },
  {
   "cell_type": "code",
   "execution_count": 86,
   "id": "cf38ae1c",
   "metadata": {},
   "outputs": [],
   "source": [
    "driver.close()"
   ]
  },
  {
   "cell_type": "code",
   "execution_count": null,
   "id": "89a8a4b6",
   "metadata": {},
   "outputs": [],
   "source": []
  }
 ],
 "metadata": {
  "kernelspec": {
   "display_name": "Python 3 (ipykernel)",
   "language": "python",
   "name": "python3"
  },
  "language_info": {
   "codemirror_mode": {
    "name": "ipython",
    "version": 3
   },
   "file_extension": ".py",
   "mimetype": "text/x-python",
   "name": "python",
   "nbconvert_exporter": "python",
   "pygments_lexer": "ipython3",
   "version": "3.11.5"
  }
 },
 "nbformat": 4,
 "nbformat_minor": 5
}
